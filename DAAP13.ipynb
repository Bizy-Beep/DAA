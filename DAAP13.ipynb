{
  "nbformat": 4,
  "nbformat_minor": 0,
  "metadata": {
    "colab": {
      "name": "DAAP13",
      "provenance": [],
      "authorship_tag": "ABX9TyMgqH4MIzOR+64Vum3iBq+a",
      "include_colab_link": true
    },
    "kernelspec": {
      "name": "python3",
      "display_name": "Python 3"
    },
    "language_info": {
      "name": "python"
    }
  },
  "cells": [
    {
      "cell_type": "markdown",
      "metadata": {
        "id": "view-in-github",
        "colab_type": "text"
      },
      "source": [
        "<a href=\"https://colab.research.google.com/github/rzfd/DAA/blob/main/DAAP13.ipynb\" target=\"_parent\"><img src=\"https://colab.research.google.com/assets/colab-badge.svg\" alt=\"Open In Colab\"/></a>"
      ]
    },
    {
      "cell_type": "code",
      "metadata": {
        "id": "Xim9vFmS9544"
      },
      "source": [
        "#Anailisis Algoritma Breadth - First Search\n",
        "\n",
        "def bfs(graph, start):\n",
        "  visited = []\n",
        "  queue = [start]\n",
        "\n",
        "  while queue:\n",
        "    node = queue.pop(0)\n",
        "    if node not in visited:\n",
        "      visited.append(node)\n",
        "      neighbours = graph[node]\n",
        "      for neighbour in neighbours:\n",
        "        queue.append(neighbour)\n",
        "  return visited"
      ],
      "execution_count": 46,
      "outputs": []
    },
    {
      "cell_type": "code",
      "metadata": {
        "id": "YLDkGPLy-0At"
      },
      "source": [
        "graph = {\n",
        "    'Amin' : {'Wasim', 'Nick', 'Mike'},\n",
        "    'Wasim' : {'Amin', 'Imran'},\n",
        "    'Imran' : {'Wasim', 'Faras'},\n",
        "    'Faras' : {'Imran'},\n",
        "    'Mike' : {'Amin'},\n",
        "    'Nick' : {'Amin'}\n",
        "}"
      ],
      "execution_count": 31,
      "outputs": []
    },
    {
      "cell_type": "code",
      "metadata": {
        "colab": {
          "base_uri": "https://localhost:8080/"
        },
        "id": "CXCrmB04_pge",
        "outputId": "2f54c00a-6f3a-4a09-9fd2-2e03b36bf554"
      },
      "source": [
        "# O amin --------------\n",
        "# |         |         |\n",
        "# O Wasim   O Nick    O Mike\n",
        "# |\n",
        "# O Imran\n",
        "# |\n",
        "# O Faras\n",
        "  \n",
        "bfs(graph, 'Amin')"
      ],
      "execution_count": 35,
      "outputs": [
        {
          "output_type": "execute_result",
          "data": {
            "text/plain": [
              "['Amin', 'Wasim', 'Mike', 'Nick', 'Imran', 'Faras']"
            ]
          },
          "metadata": {},
          "execution_count": 35
        }
      ]
    },
    {
      "cell_type": "code",
      "metadata": {
        "colab": {
          "base_uri": "https://localhost:8080/"
        },
        "id": "yGnGmKiWErwS",
        "outputId": "b6a29d36-12e3-404e-dd15-f748eec367c9"
      },
      "source": [
        "bfs(graph, 'Wasim')"
      ],
      "execution_count": 34,
      "outputs": [
        {
          "output_type": "execute_result",
          "data": {
            "text/plain": [
              "['Wasim', 'Amin', 'Imran', 'Mike', 'Nick', 'Faras']"
            ]
          },
          "metadata": {},
          "execution_count": 34
        }
      ]
    },
    {
      "cell_type": "code",
      "metadata": {
        "colab": {
          "base_uri": "https://localhost:8080/"
        },
        "id": "nJiVuZiiGruX",
        "outputId": "7350afae-a7e2-491a-f4b9-9c6a00c88c7d"
      },
      "source": [
        "bfs(graph, 'Faras')"
      ],
      "execution_count": 36,
      "outputs": [
        {
          "output_type": "execute_result",
          "data": {
            "text/plain": [
              "['Faras', 'Imran', 'Wasim', 'Amin', 'Mike', 'Nick']"
            ]
          },
          "metadata": {},
          "execution_count": 36
        }
      ]
    },
    {
      "cell_type": "code",
      "metadata": {
        "id": "IC1heS6MLIip"
      },
      "source": [
        "#Latihan BFS\n",
        "def bfs(graph, start):\n",
        "  visited = []\n",
        "  queue = [start]\n",
        "\n",
        "  while queue:\n",
        "    node = queue.pop(0)\n",
        "    if node not in visited:\n",
        "      visited.append(node)\n",
        "      neighbours = graph[node]\n",
        "      for neighbour in neighbours:\n",
        "        queue.append(neighbour)\n",
        "  return visited\n",
        "\n",
        "graph = {\n",
        "    'Rektor' : {'Warek1', 'Warek2'},\n",
        "    'Warek1' : {'Rektor'},\n",
        "    'Warek2' : {'Rektor', 'Kaprodi1', 'Kaprodi2', 'Kaprodi3'},\n",
        "    'Kaprodi1' : {'Warek2', 'DosenA', 'DosenB', 'DosenC'},\n",
        "    'Kaprodi2' : {'Warek2', 'DosenD', 'DosenE'},\n",
        "    'Kaprodi3' : {'Warek2', 'DosenF', 'DosenG'},\n",
        "    'DosenA' : {'Kaprodi1'},\n",
        "    'DosenB' : {'Kaprodi1'},\n",
        "    'DosenC' : {'Kaprodi1'},\n",
        "    'DosenD' : {'Kaprodi2'},\n",
        "    'DosenE' : {'Kaprodi2'},\n",
        "    'DosenF' : {'Kaprodi3'},\n",
        "    'DosenG' : {'Kaprodi3'}\n",
        "}"
      ],
      "execution_count": 59,
      "outputs": []
    },
    {
      "cell_type": "code",
      "metadata": {
        "colab": {
          "base_uri": "https://localhost:8080/"
        },
        "id": "11bLZp4qL2uX",
        "outputId": "f5500075-9f4b-4ac4-d0fc-2b2aa9b7ed3a"
      },
      "source": [
        "bfs(graph, 'Rektor')"
      ],
      "execution_count": 60,
      "outputs": [
        {
          "output_type": "execute_result",
          "data": {
            "text/plain": [
              "['Rektor',\n",
              " 'Warek1',\n",
              " 'Warek2',\n",
              " 'Kaprodi3',\n",
              " 'Kaprodi2',\n",
              " 'Kaprodi1',\n",
              " 'DosenG',\n",
              " 'DosenF',\n",
              " 'DosenD',\n",
              " 'DosenE',\n",
              " 'DosenA',\n",
              " 'DosenB',\n",
              " 'DosenC']"
            ]
          },
          "metadata": {},
          "execution_count": 60
        }
      ]
    },
    {
      "cell_type": "code",
      "metadata": {
        "id": "aysGLW31H31y"
      },
      "source": [
        "#Latihan DFS\n",
        "def dfs(graph, start, visited = None):\n",
        "  if visited is None:\n",
        "    visited  = set()\n",
        "  visited.add(start)\n",
        "  print(start)\n",
        "  for next in graph[start] - visited:\n",
        "    dfs(graph, next, visited)\n",
        "  return visited"
      ],
      "execution_count": 37,
      "outputs": []
    },
    {
      "cell_type": "code",
      "metadata": {
        "id": "1966jKEgIf0-"
      },
      "source": [
        "graph = {\n",
        "    'Amin' : {'Wasim', 'Nick', 'Mike'},\n",
        "    'Wasim' : {'Amin', 'Imran'},\n",
        "    'Imran' : {'Wasim', 'Faras'},\n",
        "    'Faras' : {'Imran'},\n",
        "    'Mike' : {'Amin'},\n",
        "    'Nick' : {'Amin'}\n",
        "}"
      ],
      "execution_count": 38,
      "outputs": []
    },
    {
      "cell_type": "code",
      "metadata": {
        "colab": {
          "base_uri": "https://localhost:8080/"
        },
        "id": "kaxKvELTIkF3",
        "outputId": "7ef3c7b7-13c8-4138-ebb0-d21a7c8dab00"
      },
      "source": [
        "dfs(graph, 'Amin')"
      ],
      "execution_count": 39,
      "outputs": [
        {
          "output_type": "stream",
          "name": "stdout",
          "text": [
            "Amin\n",
            "Wasim\n",
            "Imran\n",
            "Faras\n",
            "Mike\n",
            "Nick\n"
          ]
        },
        {
          "output_type": "execute_result",
          "data": {
            "text/plain": [
              "{'Amin', 'Faras', 'Imran', 'Mike', 'Nick', 'Wasim'}"
            ]
          },
          "metadata": {},
          "execution_count": 39
        }
      ]
    },
    {
      "cell_type": "code",
      "metadata": {
        "colab": {
          "base_uri": "https://localhost:8080/"
        },
        "id": "dD3I7gwUIpwa",
        "outputId": "fbd52a78-56af-4e66-e968-92899e1ba362"
      },
      "source": [
        "dfs(graph, 'Wasim')"
      ],
      "execution_count": 40,
      "outputs": [
        {
          "output_type": "stream",
          "name": "stdout",
          "text": [
            "Wasim\n",
            "Amin\n",
            "Mike\n",
            "Nick\n",
            "Imran\n",
            "Faras\n"
          ]
        },
        {
          "output_type": "execute_result",
          "data": {
            "text/plain": [
              "{'Amin', 'Faras', 'Imran', 'Mike', 'Nick', 'Wasim'}"
            ]
          },
          "metadata": {},
          "execution_count": 40
        }
      ]
    },
    {
      "cell_type": "code",
      "metadata": {
        "colab": {
          "base_uri": "https://localhost:8080/"
        },
        "id": "rUbEq7VbIukD",
        "outputId": "9f584fd7-d535-4ac9-ddfb-7c816a6b326f"
      },
      "source": [
        "dfs(graph, 'Faras')"
      ],
      "execution_count": 41,
      "outputs": [
        {
          "output_type": "stream",
          "name": "stdout",
          "text": [
            "Faras\n",
            "Imran\n",
            "Wasim\n",
            "Amin\n",
            "Mike\n",
            "Nick\n"
          ]
        },
        {
          "output_type": "execute_result",
          "data": {
            "text/plain": [
              "{'Amin', 'Faras', 'Imran', 'Mike', 'Nick', 'Wasim'}"
            ]
          },
          "metadata": {},
          "execution_count": 41
        }
      ]
    },
    {
      "cell_type": "code",
      "metadata": {
        "colab": {
          "base_uri": "https://localhost:8080/"
        },
        "id": "GTx-Q_wKIyYG",
        "outputId": "41b900c0-c3a8-4c96-a1d2-5d6f93299a65"
      },
      "source": [
        "dfs(graph, 'Nick')"
      ],
      "execution_count": 42,
      "outputs": [
        {
          "output_type": "stream",
          "name": "stdout",
          "text": [
            "Nick\n",
            "Amin\n",
            "Wasim\n",
            "Imran\n",
            "Faras\n",
            "Mike\n"
          ]
        },
        {
          "output_type": "execute_result",
          "data": {
            "text/plain": [
              "{'Amin', 'Faras', 'Imran', 'Mike', 'Nick', 'Wasim'}"
            ]
          },
          "metadata": {},
          "execution_count": 42
        }
      ]
    },
    {
      "cell_type": "code",
      "metadata": {
        "colab": {
          "base_uri": "https://localhost:8080/"
        },
        "id": "RK4j1rbne3rH",
        "outputId": "bb67186f-b6ff-4fb4-d774-046f1706ae3f"
      },
      "source": [
        "#Latihan DFS\n",
        "def dfs(graph, start):\n",
        "  visited = []\n",
        "  queue = [start]\n",
        "\n",
        "  while queue:\n",
        "    node = queue.pop(0)\n",
        "    if node not in visited:\n",
        "      visited.append(node)\n",
        "      neighbours = graph[node]\n",
        "      for neighbour in neighbours:\n",
        "        queue.append(neighbour)\n",
        "  return visited\n",
        "\n",
        "graph = {\n",
        "    'Rektor' : {'Warek1', 'Warek2'},\n",
        "    'Warek1' : {'Rektor'},\n",
        "    'Warek2' : {'Rektor', 'Kaprodi1', 'Kaprodi2', 'Kaprodi3'},\n",
        "    'Kaprodi1' : {'Warek2', 'DosenA', 'DosenB', 'DosenC'},\n",
        "    'Kaprodi2' : {'Warek2', 'DosenD', 'DosenE'},\n",
        "    'Kaprodi3' : {'Warek2', 'DosenF', 'DosenG'},\n",
        "    'DosenA' : {'Kaprodi1'},\n",
        "    'DosenB' : {'Kaprodi1'},\n",
        "    'DosenC' : {'Kaprodi1'},\n",
        "    'DosenD' : {'Kaprodi2'},\n",
        "    'DosenE' : {'Kaprodi2'},\n",
        "    'DosenF' : {'Kaprodi3'},\n",
        "    'DosenG' : {'Kaprodi3'}\n",
        "}\n",
        "\n",
        "dfs(graph, 'Rektor')"
      ],
      "execution_count": 62,
      "outputs": [
        {
          "output_type": "execute_result",
          "data": {
            "text/plain": [
              "['Rektor',\n",
              " 'Warek1',\n",
              " 'Warek2',\n",
              " 'Kaprodi3',\n",
              " 'Kaprodi2',\n",
              " 'Kaprodi1',\n",
              " 'DosenG',\n",
              " 'DosenF',\n",
              " 'DosenD',\n",
              " 'DosenE',\n",
              " 'DosenA',\n",
              " 'DosenB',\n",
              " 'DosenC']"
            ]
          },
          "metadata": {},
          "execution_count": 62
        }
      ]
    }
  ]
}