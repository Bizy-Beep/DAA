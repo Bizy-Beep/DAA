{
  "nbformat": 4,
  "nbformat_minor": 0,
  "metadata": {
    "colab": {
      "name": "DAAP4(Praktek)",
      "provenance": [],
      "collapsed_sections": [],
      "authorship_tag": "ABX9TyP8GfRZiKaNtTOzWFY944fh",
      "include_colab_link": true
    },
    "kernelspec": {
      "name": "python3",
      "display_name": "Python 3"
    },
    "language_info": {
      "name": "python"
    }
  },
  "cells": [
    {
      "cell_type": "markdown",
      "metadata": {
        "id": "view-in-github",
        "colab_type": "text"
      },
      "source": [
        "<a href=\"https://colab.research.google.com/github/rzfd/DAA/blob/main/DAAP4(Praktek).ipynb\" target=\"_parent\"><img src=\"https://colab.research.google.com/assets/colab-badge.svg\" alt=\"Open In Colab\"/></a>"
      ]
    },
    {
      "cell_type": "code",
      "metadata": {
        "colab": {
          "base_uri": "https://localhost:8080/"
        },
        "id": "d2m0NGhnuYDD",
        "outputId": "4c3aa1f4-0768-4780-c994-c0c5db5a1503"
      },
      "source": [
        "#swap function\n",
        "var1 = 1\n",
        "var2 = 2\n",
        "var1, var2 = var2, var1\n",
        "print(var1, var2)"
      ],
      "execution_count": null,
      "outputs": [
        {
          "output_type": "stream",
          "name": "stdout",
          "text": [
            "2 1\n"
          ]
        }
      ]
    },
    {
      "cell_type": "code",
      "metadata": {
        "id": "-EillZvTuZe-"
      },
      "source": [
        "#swap function\n",
        "var1 = 1\n",
        "var2 = 2\n",
        "var3 = 3\n",
        "var1, var2, var3 = var2, var3, var1\n",
        "print(var1, var2, var3)"
      ],
      "execution_count": null,
      "outputs": []
    },
    {
      "cell_type": "code",
      "metadata": {
        "colab": {
          "base_uri": "https://localhost:8080/"
        },
        "id": "rfgzr4M0ua8J",
        "outputId": "fbf19cff-df87-4c2a-bb2f-86fa07456311"
      },
      "source": [
        "#Bubble Sort\n",
        "list = [25, 21, 22, 24, 23, 27, 26]\n",
        "\n",
        "lastElementIndex = len(list)-1\n",
        "print(0,list)\n",
        "for idx in range(lastElementIndex):\n",
        "  if list[idx]>list[idx+1]:\n",
        "    list[idx],list[idx+1]=list[idx+1],list[idx]\n",
        "  print(idx+1,list)"
      ],
      "execution_count": null,
      "outputs": [
        {
          "output_type": "stream",
          "name": "stdout",
          "text": [
            "0 [25, 21, 22, 24, 23, 27, 26]\n",
            "1 [21, 25, 22, 24, 23, 27, 26]\n",
            "2 [21, 22, 25, 24, 23, 27, 26]\n",
            "3 [21, 22, 24, 25, 23, 27, 26]\n",
            "4 [21, 22, 24, 23, 25, 27, 26]\n",
            "5 [21, 22, 24, 23, 25, 27, 26]\n",
            "6 [21, 22, 24, 23, 25, 26, 27]\n"
          ]
        }
      ]
    },
    {
      "cell_type": "code",
      "metadata": {
        "colab": {
          "base_uri": "https://localhost:8080/"
        },
        "id": "y2bVXnIZufiS",
        "outputId": "e575315b-7b63-4990-bea5-edd861f238ce"
      },
      "source": [
        "list"
      ],
      "execution_count": null,
      "outputs": [
        {
          "output_type": "execute_result",
          "data": {
            "text/plain": [
              "[21, 22, 24, 23, 25, 26, 27]"
            ]
          },
          "metadata": {},
          "execution_count": 6
        }
      ]
    },
    {
      "cell_type": "code",
      "metadata": {
        "id": "gk-BelFuuiCK"
      },
      "source": [
        "def BubbleSort(list):\n",
        "  lastElementIndex = len(list)-1\n",
        "  for passNo in range(lastElementIndex,0,-1):\n",
        "    for idx in range(passNo):\n",
        "      if list[idx]>list[idx+1]:\n",
        "         list[idx],list[idx+1]=list[idx+1],list[idx]\n",
        "  return list"
      ],
      "execution_count": null,
      "outputs": []
    },
    {
      "cell_type": "code",
      "metadata": {
        "id": "1606ScRvurmo"
      },
      "source": [
        "list = [25, 21, 22, 24, 23, 27, 26]"
      ],
      "execution_count": null,
      "outputs": []
    },
    {
      "cell_type": "code",
      "metadata": {
        "colab": {
          "base_uri": "https://localhost:8080/"
        },
        "id": "IGbMUOZcu15i",
        "outputId": "36ff2efc-b11d-4210-f18a-57b992b66950"
      },
      "source": [
        "BubbleSort(list)"
      ],
      "execution_count": null,
      "outputs": [
        {
          "output_type": "execute_result",
          "data": {
            "text/plain": [
              "[21, 22, 24, 23, 25, 26, 27]"
            ]
          },
          "metadata": {},
          "execution_count": 10
        }
      ]
    },
    {
      "cell_type": "code",
      "metadata": {
        "colab": {
          "base_uri": "https://localhost:8080/"
        },
        "id": "aaPF75Suu5Nq",
        "outputId": "6a1c1cd1-e817-4d2b-a6ba-3b8974fd043c"
      },
      "source": [
        "list"
      ],
      "execution_count": null,
      "outputs": [
        {
          "output_type": "execute_result",
          "data": {
            "text/plain": [
              "[21, 22, 24, 23, 25, 26, 27]"
            ]
          },
          "metadata": {},
          "execution_count": 11
        }
      ]
    },
    {
      "cell_type": "code",
      "metadata": {
        "colab": {
          "base_uri": "https://localhost:8080/"
        },
        "id": "nGNnoc7RvA_a",
        "outputId": "d14e2b39-9e34-4472-a24b-08d214a3335e"
      },
      "source": [
        "list = [100, 20, 60, 90, 40, 30, 10]\n",
        "BubbleSort(list)"
      ],
      "execution_count": null,
      "outputs": [
        {
          "output_type": "execute_result",
          "data": {
            "text/plain": [
              "[10, 20, 30, 40, 60, 90, 100]"
            ]
          },
          "metadata": {},
          "execution_count": 14
        }
      ]
    },
    {
      "cell_type": "code",
      "metadata": {
        "id": "Py0FvzlJvpg-"
      },
      "source": [
        "def InsertionSort(list):\n",
        "  for i in range(1, len(list)):\n",
        "      j = i-1\n",
        "      next = list[i]\n",
        "      while(list[j] > next) and (j>=0):\n",
        "        list[j+1] = list[j]\n",
        "        j=j-1\n",
        "      list[j+1] = next\n",
        "  return list"
      ],
      "execution_count": null,
      "outputs": []
    },
    {
      "cell_type": "code",
      "metadata": {
        "id": "Mt4YFtqnvtCR"
      },
      "source": [
        "list = [35, 31, 32, 34, 33, 37, 36]"
      ],
      "execution_count": null,
      "outputs": []
    },
    {
      "cell_type": "code",
      "metadata": {
        "colab": {
          "base_uri": "https://localhost:8080/"
        },
        "id": "WBjGUsQZvxds",
        "outputId": "09dec33d-e64b-4461-c856-c1819b38e9c3"
      },
      "source": [
        "list"
      ],
      "execution_count": null,
      "outputs": [
        {
          "output_type": "execute_result",
          "data": {
            "text/plain": [
              "[35, 31, 32, 34, 33, 37, 36]"
            ]
          },
          "metadata": {},
          "execution_count": 19
        }
      ]
    },
    {
      "cell_type": "code",
      "metadata": {
        "colab": {
          "base_uri": "https://localhost:8080/"
        },
        "id": "MAps7Oy2v21v",
        "outputId": "3fd5cb7a-a329-404a-d885-e1b1f31f848a"
      },
      "source": [
        "InsertionSort(list)"
      ],
      "execution_count": null,
      "outputs": [
        {
          "output_type": "execute_result",
          "data": {
            "text/plain": [
              "[31, 32, 33, 34, 35, 36, 37]"
            ]
          },
          "metadata": {},
          "execution_count": 20
        }
      ]
    },
    {
      "cell_type": "code",
      "metadata": {
        "colab": {
          "base_uri": "https://localhost:8080/"
        },
        "id": "3I-rAUaev46Y",
        "outputId": "a0841665-52a8-4363-ad39-b3dcd3164858"
      },
      "source": [
        "list"
      ],
      "execution_count": null,
      "outputs": [
        {
          "output_type": "execute_result",
          "data": {
            "text/plain": [
              "[31, 32, 33, 34, 35, 36, 37]"
            ]
          },
          "metadata": {},
          "execution_count": 21
        }
      ]
    },
    {
      "cell_type": "code",
      "metadata": {
        "id": "rdvoeQ0dv79i"
      },
      "source": [
        "list = [89, 12, 57, 16, 25, 11, 75]"
      ],
      "execution_count": null,
      "outputs": []
    },
    {
      "cell_type": "code",
      "metadata": {
        "colab": {
          "base_uri": "https://localhost:8080/"
        },
        "id": "iAyk2d-mwKue",
        "outputId": "4addb4f0-3387-408a-e8d8-c75517406c49"
      },
      "source": [
        "InsertionSort(list)"
      ],
      "execution_count": null,
      "outputs": [
        {
          "output_type": "execute_result",
          "data": {
            "text/plain": [
              "[11, 12, 16, 25, 57, 75, 89]"
            ]
          },
          "metadata": {},
          "execution_count": 23
        }
      ]
    },
    {
      "cell_type": "code",
      "metadata": {
        "id": "rPmkaSaew1Q5"
      },
      "source": [
        "def SelectionSort(list):\n",
        "  for fill_slot in range(len(list) - 1, 0, -1):\n",
        "    max_index = 0\n",
        "    for location in range(1, fill_slot + 1):\n",
        "        if list[location] > list[max_index]:\n",
        "            max_index = location\n",
        "    list[fill_slot],list[max_index] = list[max_index],list[fill_slot]\n",
        "  return list"
      ],
      "execution_count": null,
      "outputs": []
    },
    {
      "cell_type": "code",
      "metadata": {
        "colab": {
          "base_uri": "https://localhost:8080/"
        },
        "id": "xiWp_yXpxwQ9",
        "outputId": "f055c258-1281-495a-9ce7-3c7e4e061ca8"
      },
      "source": [
        "list = [70, 15, 25, 19, 34, 44]\n",
        "SelectionSort(list)"
      ],
      "execution_count": null,
      "outputs": [
        {
          "output_type": "execute_result",
          "data": {
            "text/plain": [
              "[15, 19, 25, 34, 44, 70]"
            ]
          },
          "metadata": {},
          "execution_count": 25
        }
      ]
    },
    {
      "cell_type": "code",
      "metadata": {
        "colab": {
          "base_uri": "https://localhost:8080/"
        },
        "id": "UuI9aZIAx42J",
        "outputId": "9ce612ad-eea2-4c0d-f3d3-8fd3a3349b2c"
      },
      "source": [
        "list"
      ],
      "execution_count": null,
      "outputs": [
        {
          "output_type": "execute_result",
          "data": {
            "text/plain": [
              "[15, 19, 25, 34, 44, 70]"
            ]
          },
          "metadata": {},
          "execution_count": 26
        }
      ]
    },
    {
      "cell_type": "code",
      "metadata": {
        "colab": {
          "base_uri": "https://localhost:8080/"
        },
        "id": "NbKQSx50x5l6",
        "outputId": "a83a06a6-c59e-413f-d2e1-35c3cca82651"
      },
      "source": [
        "list = [89, 12, 57, 16, 25]\n",
        "SelectionSort(list)"
      ],
      "execution_count": null,
      "outputs": [
        {
          "output_type": "execute_result",
          "data": {
            "text/plain": [
              "[12, 16, 25, 57, 89]"
            ]
          },
          "metadata": {},
          "execution_count": 27
        }
      ]
    },
    {
      "cell_type": "code",
      "metadata": {
        "id": "lGc4N8pAJCdu"
      },
      "source": [
        "def LinearSearch(deret, item):\n",
        "  index = 0\n",
        "  found = False\n",
        "  while index < len(deret) and found is False:\n",
        "    if deret[index] == item:\n",
        "      found = True\n",
        "    else:\n",
        "      index = index + 1\n",
        "  return found"
      ],
      "execution_count": 49,
      "outputs": []
    },
    {
      "cell_type": "code",
      "metadata": {
        "colab": {
          "base_uri": "https://localhost:8080/"
        },
        "id": "I7E0HrVaMLAB",
        "outputId": "c24638f4-d327-4fbb-8b90-3921f8429dea"
      },
      "source": [
        "deret = [12, 33, 11, 99, 22, 55, 90]\n",
        "print(LinearSearch(deret, 12))\n",
        "print(LinearSearch(deret, 91))"
      ],
      "execution_count": 50,
      "outputs": [
        {
          "output_type": "stream",
          "name": "stdout",
          "text": [
            "True\n",
            "False\n"
          ]
        }
      ]
    },
    {
      "cell_type": "code",
      "metadata": {
        "colab": {
          "base_uri": "https://localhost:8080/"
        },
        "id": "ct8JDu_nKpYo",
        "outputId": "da8d70a7-54ef-4ca9-e8bc-1175098890a2"
      },
      "source": [
        "list = ['y', 'u', 'i', 'w', 'o', 'a', 'q', 'u', 'j', 'p']\n",
        "print(LinearSearch(list, 'a'))\n"
      ],
      "execution_count": 51,
      "outputs": [
        {
          "output_type": "stream",
          "name": "stdout",
          "text": [
            "True\n"
          ]
        }
      ]
    },
    {
      "cell_type": "code",
      "metadata": {
        "id": "Bs4pEAP6MskP"
      },
      "source": [
        "def BinarySearch(list, item):\n",
        "  first = 0\n",
        "  last = len(list)-1\n",
        "  found = False\n",
        "\n",
        "  while first<=last and not found:\n",
        "    midpoint = (first + last)//2\n",
        "    if list[midpoint] == item:\n",
        "      found = True\n",
        "    else:\n",
        "      if item < list[midpoint]:\n",
        "        last = midpoint-1\n",
        "      else:\n",
        "        first = midpoint+1\n",
        "  return found"
      ],
      "execution_count": 52,
      "outputs": []
    },
    {
      "cell_type": "code",
      "metadata": {
        "colab": {
          "base_uri": "https://localhost:8080/"
        },
        "id": "ja4KtgL3OQC0",
        "outputId": "07a95ebd-60ac-48f9-a2a1-65a84e953bb1"
      },
      "source": [
        "list = [12, 33, 11, 99, 22, 55, 90]\n",
        "sorted_list = BubbleSort(list)\n",
        "print(BinarySearch(list, 12))\n",
        "print(BinarySearch(list, 91))"
      ],
      "execution_count": 53,
      "outputs": [
        {
          "output_type": "stream",
          "name": "stdout",
          "text": [
            "True\n",
            "False\n"
          ]
        }
      ]
    },
    {
      "cell_type": "code",
      "metadata": {
        "colab": {
          "base_uri": "https://localhost:8080/"
        },
        "id": "N7UV5zbGOlUE",
        "outputId": "ddba5225-7ddf-4fa4-bf54-5b298aaaf43c"
      },
      "source": [
        "list = ['y', 'u', 'i', 'w', 'o', 'a', 'q', 'u', 'j', 'p']\n",
        "sorted_list = BubbleSort(list)\n",
        "print(BinarySearch(list, 'q'))"
      ],
      "execution_count": 63,
      "outputs": [
        {
          "output_type": "stream",
          "name": "stdout",
          "text": [
            "True\n"
          ]
        }
      ]
    },
    {
      "cell_type": "code",
      "metadata": {
        "id": "NVUSpIhBRPVg"
      },
      "source": [
        "def IntPolSearch(list, x):\n",
        "    idx0 = 0\n",
        "    idxn = (len(list) - 1)\n",
        "    found = False\n",
        "    while idx0 < idxn and x >= list[idx0] and x <= list[idxn]:\n",
        "\n",
        "# Find the Mid Point\n",
        "        mid = idx0 + int(((float(idxn - idx0)/ (list[idxn] - list[idx0])) * (x - list[idx0])))\n",
        "\n",
        "# Compare the value at mid point with search value\n",
        "        if list[mid] == x:\n",
        "            found = True\n",
        "            return found\n",
        "        \n",
        "        if list[mid] < x:\n",
        "            idx0 = mid + 1\n",
        "    return found"
      ],
      "execution_count": 81,
      "outputs": []
    },
    {
      "cell_type": "code",
      "metadata": {
        "colab": {
          "base_uri": "https://localhost:8080/"
        },
        "id": "YzbTmXqETc-9",
        "outputId": "0e3a38e2-c5f7-4368-f1c3-d5f6b7787b89"
      },
      "source": [
        "list =[12, 33, 11, 99, 22, 55, 90]\n",
        "sorted_list = BubbleSort(list)\n",
        "print(IntPolSearch(list,12))\n",
        "print(IntPolSearch(list,91))"
      ],
      "execution_count": 68,
      "outputs": [
        {
          "output_type": "stream",
          "name": "stdout",
          "text": [
            "True\n",
            "False\n"
          ]
        }
      ]
    },
    {
      "cell_type": "code",
      "metadata": {
        "colab": {
          "base_uri": "https://localhost:8080/"
        },
        "id": "QoXsY--YU4Fx",
        "outputId": "b90e6e54-90ad-4d48-8651-1545432df7d6"
      },
      "source": [
        "list = [20, 2, 0, 0, 7, 10, 15]\n",
        "sorted_list = BubbleSort(list)\n",
        "print(IntPolSearch(list, 10))"
      ],
      "execution_count": 84,
      "outputs": [
        {
          "output_type": "stream",
          "name": "stdout",
          "text": [
            "True\n"
          ]
        }
      ]
    }
  ]
}