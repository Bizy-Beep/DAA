{
  "nbformat": 4,
  "nbformat_minor": 0,
  "metadata": {
    "colab": {
      "name": "DAAP11",
      "provenance": [],
      "authorship_tag": "ABX9TyO1RaVtQ7xo6Y3w+fuoXFXl",
      "include_colab_link": true
    },
    "kernelspec": {
      "name": "python3",
      "display_name": "Python 3"
    },
    "language_info": {
      "name": "python"
    }
  },
  "cells": [
    {
      "cell_type": "markdown",
      "metadata": {
        "id": "view-in-github",
        "colab_type": "text"
      },
      "source": [
        "<a href=\"https://colab.research.google.com/github/rzfd/DAA/blob/main/DAAP11.ipynb\" target=\"_parent\"><img src=\"https://colab.research.google.com/assets/colab-badge.svg\" alt=\"Open In Colab\"/></a>"
      ]
    },
    {
      "cell_type": "code",
      "metadata": {
        "id": "oNiTf1bL6zhO"
      },
      "source": [
        "# a-----b\n",
        "# |     |\n",
        "# |     |\n",
        "# c-----d-----e"
      ],
      "execution_count": null,
      "outputs": []
    },
    {
      "cell_type": "code",
      "metadata": {
        "colab": {
          "base_uri": "https://localhost:8080/"
        },
        "id": "2IDYqSpD7U9u",
        "outputId": "fbd176cf-03a1-49db-d775-5385ece77cb3"
      },
      "source": [
        "# Create the dictionary with graph elements\n",
        "\n",
        "graph = { \"a\" : [\"b\", \"c\"],\n",
        "          \"b\" : [\"a\", \"d\"],\n",
        "          \"c\" : [\"a\", \"d\"],\n",
        "          \"d\" : [\"e\"],\n",
        "          \"e\" : [\"d\"]\n",
        "         }\n",
        "\n",
        "# Print the graph\n",
        "print(graph)"
      ],
      "execution_count": 2,
      "outputs": [
        {
          "output_type": "stream",
          "name": "stdout",
          "text": [
            "{'a': ['b', 'c'], 'b': ['a', 'd'], 'c': ['a', 'd'], 'd': ['e'], 'e': ['d']}\n"
          ]
        }
      ]
    },
    {
      "cell_type": "code",
      "metadata": {
        "colab": {
          "base_uri": "https://localhost:8080/"
        },
        "id": "0mQXh0fG8Lek",
        "outputId": "466d4b37-b010-46f9-9a24-b175c7649a00"
      },
      "source": [
        "#Latihan 1\n",
        "\n",
        "# t-----u-----v\n",
        "# |           |\n",
        "# |           |\n",
        "# w-----------x\n",
        "# |           |\n",
        "# |           |\n",
        "# z           s\n",
        "\n",
        "graph = { \"t\" : [\"u\", \"w\"],\n",
        "          \"u\" : [\"t\", \"v\"],\n",
        "          \"v\" : [\"u\", \"x\"],\n",
        "          \"w\" : [\"t\", \"x\", \"z\"],\n",
        "          \"x\" : [\"w\", \"v\", \"s\"],\n",
        "          \"z\" : [\"s\"],\n",
        "          \"s\" : [\"x\"]\n",
        "         }\n",
        "\n",
        "# Print the graph\n",
        "print(graph)"
      ],
      "execution_count": 3,
      "outputs": [
        {
          "output_type": "stream",
          "name": "stdout",
          "text": [
            "{'t': ['u', 'v', 'w'], 'u': ['t', 'v'], 'v': ['u', 'x'], 'w': ['t', 'x', 'z'], 'x': ['w', 'v', 's'], 'z': ['w', 's'], 's': ['x', 'z']}\n"
          ]
        }
      ]
    },
    {
      "cell_type": "code",
      "metadata": {
        "colab": {
          "base_uri": "https://localhost:8080/"
        },
        "id": "A-0gH9S-AzM8",
        "outputId": "d0497a4b-64e4-45ae-fea7-47271c53766d"
      },
      "source": [
        "# Latihan 2\n",
        "\n",
        "# r-----o-----m\n",
        "# |     |     |\n",
        "# |     |     |\n",
        "# l-----p-----n\n",
        "\n",
        "graph = { \"r\" : [\"o\", \"l\"],\n",
        "          \"o\" : [\"r\", \"m\", \"p\"],\n",
        "          \"m\" : [\"o\", \"n\"],\n",
        "          \"l\" : [\"p\", \"r\"],\n",
        "          \"p\" : [\"l\", \"n\", \"o\"],\n",
        "          \"n\" : [\"p\", \"m\"]\n",
        "         }\n",
        "\n",
        "# Print the graph\n",
        "print(graph)"
      ],
      "execution_count": 4,
      "outputs": [
        {
          "output_type": "stream",
          "name": "stdout",
          "text": [
            "{'r': ['o', 'l'], 'o': ['r', 'm'], 'm': ['o', 'n'], 'l': ['p', 'r'], 'p': ['l', 'n'], 'n': ['p', 'm']}\n"
          ]
        }
      ]
    },
    {
      "cell_type": "code",
      "metadata": {
        "colab": {
          "base_uri": "https://localhost:8080/"
        },
        "id": "aSnzAoNxDYZ7",
        "outputId": "bb9165de-eb1e-4239-ffdc-8ca9bb10422a"
      },
      "source": [
        "# Menampilkan simpul pada graph \n",
        "\n",
        "class graph:\n",
        "  def __init__(self,gdict=None):\n",
        "    if gdict is None:\n",
        "      gdict = []\n",
        "    self.gdict = gdict\n",
        "  \n",
        "# Get the kyes of the dictionary\n",
        "\n",
        "  def getVertices(self):\n",
        "    return list(self.gdict.keys())\n",
        "\n",
        "# Create the dictionary with graph elements\n",
        "\n",
        "graph_elements = { \"a\" : [\"b\", \"c\"],\n",
        "          \"b\" : [\"a\", \"d\"],\n",
        "          \"c\" : [\"a\", \"d\"],\n",
        "          \"d\" : [\"e\"],\n",
        "          \"e\" : [\"d\"]\n",
        "         }\n",
        "\n",
        "g = graph(graph_elements)\n",
        "\n",
        "print(g.getVertices())\n",
        "  "
      ],
      "execution_count": 10,
      "outputs": [
        {
          "output_type": "stream",
          "name": "stdout",
          "text": [
            "['a', 'b', 'c', 'd', 'e']\n"
          ]
        }
      ]
    },
    {
      "cell_type": "code",
      "metadata": {
        "colab": {
          "base_uri": "https://localhost:8080/"
        },
        "id": "HSP23sAoH8-1",
        "outputId": "35527d5f-1aa3-485d-9e28-2f2081df2e58"
      },
      "source": [
        "# Menampilkan simpul pada graph Latihan 1\n",
        "\n",
        "class graph:\n",
        "  def __init__(self,gdict=None):\n",
        "    if gdict is None:\n",
        "      gdict = []\n",
        "    self.gdict = gdict\n",
        "  \n",
        "# Get the kyes of the dictionary\n",
        "\n",
        "  def getVertices(self):\n",
        "    return list(self.gdict.keys())\n",
        "\n",
        "# Create the dictionary with graph elements\n",
        "\n",
        "graph_elements = {\"t\" : [\"u\", \"w\"],\n",
        "                  \"u\" : [\"t\", \"v\"],\n",
        "                  \"v\" : [\"u\", \"x\"],\n",
        "                  \"w\" : [\"t\", \"x\", \"z\"],\n",
        "                  \"x\" : [\"w\", \"v\", \"s\"],\n",
        "                  \"z\" : [\"s\"],\n",
        "                  \"s\" : [\"x\"]\n",
        "                  }\n",
        "\n",
        "g = graph(graph_elements)\n",
        "\n",
        "print(g.getVertices())"
      ],
      "execution_count": 11,
      "outputs": [
        {
          "output_type": "stream",
          "name": "stdout",
          "text": [
            "['t', 'u', 'v', 'w', 'x', 'z', 's']\n"
          ]
        }
      ]
    },
    {
      "cell_type": "code",
      "metadata": {
        "colab": {
          "base_uri": "https://localhost:8080/"
        },
        "id": "LUZAVv5DKuig",
        "outputId": "d70032ea-9fba-42f8-8a98-cbcf2dda6c06"
      },
      "source": [
        "# Menampilkan simpul pada graph latihan 2\n",
        "\n",
        "class graph:\n",
        "  def __init__(self,gdict=None):\n",
        "    if gdict is None:\n",
        "      gdict = []\n",
        "    self.gdict = gdict\n",
        "  \n",
        "# Get the kyes of the dictionary\n",
        "\n",
        "  def getVertices(self):\n",
        "    return list(self.gdict.keys())\n",
        "\n",
        "# Create the dictionary with graph elements\n",
        "\n",
        "graph_elements = { \"r\" : [\"o\", \"l\"],\n",
        "          \"o\" : [\"r\", \"m\", \"p\"],\n",
        "          \"m\" : [\"o\", \"n\"],\n",
        "          \"l\" : [\"p\", \"r\"],\n",
        "          \"p\" : [\"l\", \"n\", \"o\"],\n",
        "          \"n\" : [\"p\", \"m\"]\n",
        "         }\n",
        "\n",
        "g = graph(graph_elements)\n",
        "\n",
        "print(g.getVertices())"
      ],
      "execution_count": 12,
      "outputs": [
        {
          "output_type": "stream",
          "name": "stdout",
          "text": [
            "['r', 'o', 'm', 'l', 'p', 'n']\n"
          ]
        }
      ]
    },
    {
      "cell_type": "code",
      "metadata": {
        "colab": {
          "base_uri": "https://localhost:8080/"
        },
        "id": "9hZzvOxJMy5w",
        "outputId": "dde19b87-5847-4ac2-c244-f60bb6e096cb"
      },
      "source": [
        "# Latihan 1\n",
        "\n",
        "class graph:\n",
        "    def __init__(self,gdict=None):\n",
        "        if gdict is None:\n",
        "            gdict = []\n",
        "        self.gdict = gdict\n",
        "\n",
        "    def edges(self):\n",
        "        return self.findedges()\n",
        "\n",
        "# find the distinct list of edges\n",
        "    def findedges(self):\n",
        "        edgename = []\n",
        "        for vrtx in self.gdict:\n",
        "            for nxtvrtx in self.gdict[vrtx]:\n",
        "                if {nxtvrtx, vrtx} not in edgename:\n",
        "                    edgename.append({vrtx, nxtvrtx})\n",
        "        return edgename\n",
        "\n",
        "# create the dictionary with graph elements\n",
        "graph_elements = { \"a\" : [\"b\", \"c\"],\n",
        "                   \"b\" : [\"a\", \"d\"],\n",
        "                   \"c\" : [\"a\", \"d\"],\n",
        "                   \"d\" : [\"e\"],\n",
        "                   \"e\" : [\"d\"]\n",
        "                 }\n",
        "\n",
        "g = graph(graph_elements)\n",
        "\n",
        "print(g.edges())"
      ],
      "execution_count": 21,
      "outputs": [
        {
          "output_type": "stream",
          "name": "stdout",
          "text": [
            "[{'a', 'b'}, {'a', 'c'}, {'d', 'b'}, {'c', 'd'}, {'e', 'd'}]\n"
          ]
        }
      ]
    },
    {
      "cell_type": "code",
      "metadata": {
        "colab": {
          "base_uri": "https://localhost:8080/"
        },
        "id": "H4ovwTLzOtwq",
        "outputId": "ad08c195-0c14-405b-c227-1f073116cf1f"
      },
      "source": [
        "# Latihan 2\n",
        "class graph:\n",
        "    def __init__(self,gdict=None):\n",
        "        if gdict is None:\n",
        "            gdict = []\n",
        "        self.gdict = gdict\n",
        "\n",
        "    def edges(self):\n",
        "        return self.findedges()\n",
        "\n",
        "# find the distinct list of edges\n",
        "    def findedges(self):\n",
        "        edgename = []\n",
        "        for vrtx in self.gdict:\n",
        "            for nxtvrtx in self.gdict[vrtx]:\n",
        "                if {nxtvrtx, vrtx} not in edgename:\n",
        "                    edgename.append({vrtx, nxtvrtx})\n",
        "        return edgename\n",
        "\n",
        "# create the dictionary with graph elements\n",
        "graph_elements = {\"t\" : [\"u\", \"w\"],\n",
        "                  \"u\" : [\"t\", \"v\"],\n",
        "                  \"v\" : [\"u\", \"x\"],\n",
        "                  \"w\" : [\"t\", \"x\", \"z\"],\n",
        "                  \"x\" : [\"v\", \"w\", \"s\"],\n",
        "                  \"z\" : [\"w\"],\n",
        "                  \"s\" : [\"x\"]\n",
        "                 }\n",
        "\n",
        "g = graph(graph_elements)\n",
        "\n",
        "print(g.edges())"
      ],
      "execution_count": 20,
      "outputs": [
        {
          "output_type": "stream",
          "name": "stdout",
          "text": [
            "[{'u', 't'}, {'t', 'w'}, {'v', 'u'}, {'v', 'x'}, {'w', 'x'}, {'z', 'w'}, {'s', 'x'}]\n"
          ]
        }
      ]
    },
    {
      "cell_type": "code",
      "metadata": {
        "colab": {
          "base_uri": "https://localhost:8080/"
        },
        "id": "d1LT_9qWQ2Hm",
        "outputId": "7a0845b7-3eee-4cd2-a7c1-135961bf0061"
      },
      "source": [
        "# Latihan 2 Menampilkan sudut\n",
        "class graph:\n",
        "    def __init__(self,gdict=None):\n",
        "        if gdict is None:\n",
        "            gdict = []\n",
        "        self.gdict = gdict\n",
        "\n",
        "    def edges(self):\n",
        "        return self.findedges()\n",
        "\n",
        "# find the distinct list of edges\n",
        "    def findedges(self):\n",
        "        edgename = []\n",
        "        for vrtx in self.gdict:\n",
        "            for nxtvrtx in self.gdict[vrtx]:\n",
        "                if {nxtvrtx, vrtx} not in edgename:\n",
        "                    edgename.append({vrtx, nxtvrtx})\n",
        "        return edgename\n",
        "\n",
        "# create the dictionary with graph elements\n",
        "graph_elements = { \"r\" : [\"o\", \"l\"],\n",
        "                   \"o\" : [\"r\", \"m\", \"p\"],\n",
        "                   \"m\" : [\"o\", \"n\"],\n",
        "                   \"l\" : [\"p\", \"r\"],\n",
        "                   \"p\" : [\"l\", \"n\", \"o\"],\n",
        "                   \"n\" : [\"p\", \"m\"]\n",
        "                  }\n",
        "\n",
        "g = graph(graph_elements)\n",
        "\n",
        "print(g.edges())"
      ],
      "execution_count": 22,
      "outputs": [
        {
          "output_type": "stream",
          "name": "stdout",
          "text": [
            "[{'o', 'r'}, {'r', 'l'}, {'o', 'm'}, {'p', 'o'}, {'m', 'n'}, {'p', 'l'}, {'p', 'n'}]\n"
          ]
        }
      ]
    },
    {
      "cell_type": "code",
      "metadata": {
        "colab": {
          "base_uri": "https://localhost:8080/"
        },
        "id": "b3cQqTsURjmd",
        "outputId": "5eebf017-b211-4802-bd1f-e024db5ec143"
      },
      "source": [
        "# Menambah vertex atau simpul\n",
        "\n",
        "class graph:\n",
        "  def __init__(self,gdict=None):\n",
        "    if gdict is None:\n",
        "      gdict = {}\n",
        "    self.gdict = gdict\n",
        "\n",
        "  def getVertices(self):\n",
        "    return list(self.gdict.keys())\n",
        "\n",
        "# ADd the vertex as a key\n",
        "\n",
        "  def addVertex(self, vrtx):\n",
        "    if vrtx not in self.gdict:\n",
        "      self.gdict[vrtx] = []\n",
        "\n",
        "# Create the dictionary with graph elements\n",
        "\n",
        "graph_elements = { \"a\" : [\"b\", \"c\"],\n",
        "          \"b\" : [\"a\", \"d\"],\n",
        "          \"c\" : [\"a\", \"d\"],\n",
        "          \"d\" : [\"e\"],\n",
        "          \"e\" : [\"d\"]\n",
        "         }\n",
        "\n",
        "g = graph(graph_elements)\n",
        "\n",
        "g.addVertex(\"f\")\n",
        "\n",
        "print(g.getVertices())\n",
        "  "
      ],
      "execution_count": 23,
      "outputs": [
        {
          "output_type": "stream",
          "name": "stdout",
          "text": [
            "['a', 'b', 'c', 'd', 'e', 'f']\n"
          ]
        }
      ]
    },
    {
      "cell_type": "code",
      "metadata": {
        "colab": {
          "base_uri": "https://localhost:8080/"
        },
        "id": "32DvOfqBTx3H",
        "outputId": "8c89cf8c-c5be-4aed-e0bb-e111f5be53e0"
      },
      "source": [
        "# Menambah vertex atau simpul\n",
        "\n",
        "class graph:\n",
        "  def __init__(self,gdict=None):\n",
        "    if gdict is None:\n",
        "      gdict = {}\n",
        "    self.gdict = gdict\n",
        "\n",
        "  def getVertices(self):\n",
        "    return list(self.gdict.keys())\n",
        "\n",
        "# ADd the vertex as a key\n",
        "\n",
        "  def addVertex(self, vrtx):\n",
        "    if vrtx not in self.gdict:\n",
        "      self.gdict[vrtx] = []\n",
        "\n",
        "# Create the dictionary with graph elements\n",
        "\n",
        "graph_elements = { \"a\" : [\"b\", \"c\"],\n",
        "          \"b\" : [\"a\", \"d\"],\n",
        "          \"c\" : [\"a\", \"d\"],\n",
        "          \"d\" : [\"e\"],\n",
        "          \"e\" : [\"d\"]\n",
        "         }\n",
        "\n",
        "g = graph(graph_elements)\n",
        "\n",
        "g.addVertex(\"q\")\n",
        "\n",
        "print(g.getVertices())"
      ],
      "execution_count": 24,
      "outputs": [
        {
          "output_type": "stream",
          "name": "stdout",
          "text": [
            "['a', 'b', 'c', 'd', 'e', 'q']\n"
          ]
        }
      ]
    },
    {
      "cell_type": "code",
      "metadata": {
        "colab": {
          "base_uri": "https://localhost:8080/"
        },
        "id": "ObQB1YknWSqp",
        "outputId": "daed652f-2344-4a63-f61e-cc9101d9a6e6"
      },
      "source": [
        "# Menambah vertex atau simpul Latihan 1\n",
        "\n",
        "class graph:\n",
        "  def __init__(self,gdict=None):\n",
        "    if gdict is None:\n",
        "      gdict = {}\n",
        "    self.gdict = gdict\n",
        "\n",
        "  def getVertices(self):\n",
        "    return list(self.gdict.keys())\n",
        "\n",
        "# ADd the vertex as a key\n",
        "\n",
        "  def addVertex(self, vrtx):\n",
        "    if vrtx not in self.gdict:\n",
        "      self.gdict[vrtx] = []\n",
        "\n",
        "# Create the dictionary with graph elements\n",
        "\n",
        "graph_elements = { \"r\" : [\"o\", \"l\"],\n",
        "                   \"o\" : [\"r\", \"m\", \"p\"],\n",
        "                   \"m\" : [\"o\", \"n\"],\n",
        "                   \"l\" : [\"p\", \"r\"],\n",
        "                   \"p\" : [\"l\", \"n\", \"o\"],\n",
        "                   \"n\" : [\"p\", \"m\"]\n",
        "                  }\n",
        "\n",
        "g = graph(graph_elements)\n",
        "\n",
        "g.addVertex(\"q\")\n",
        "\n",
        "print(g.getVertices())"
      ],
      "execution_count": 25,
      "outputs": [
        {
          "output_type": "stream",
          "name": "stdout",
          "text": [
            "['r', 'o', 'm', 'l', 'p', 'n', 'q']\n"
          ]
        }
      ]
    },
    {
      "cell_type": "code",
      "metadata": {
        "colab": {
          "base_uri": "https://localhost:8080/"
        },
        "id": "KbiEDwPTYCHm",
        "outputId": "9f557e82-d0a2-4f51-ae60-67d9e2840a29"
      },
      "source": [
        "# Menambah sudut\n",
        "\n",
        "class graph:\n",
        "\n",
        "    def __init__(self,gdict=None):\n",
        "        if gdict is None:\n",
        "            gdict = {}\n",
        "        self.gdict = gdict\n",
        "\n",
        "    def edges(self):\n",
        "        return self.findedges()\n",
        "# Add the new edge\n",
        "\n",
        "    def AddEdge(self, edge):\n",
        "        edge = set(edge)\n",
        "        (vrtx1, vrtx2) = tuple(edge)\n",
        "        if vrtx1 in self.gdict:\n",
        "            self.gdict[vrtx1].append(vrtx2)\n",
        "        else:\n",
        "            self.gdict[vrtx1] = [vrtx2]\n",
        "\n",
        "# List the edge names\n",
        "    def findedges(self):\n",
        "        edgename = []\n",
        "        for vrtx in self.gdict:\n",
        "            for nxtvrtx in self.gdict[vrtx]:\n",
        "                if {nxtvrtx, vrtx} not in edgename:\n",
        "                    edgename.append({vrtx, nxtvrtx})\n",
        "        return edgename\n",
        "\n",
        "graph_elements = { \"a\" : [\"b\", \"c\"],\n",
        "                   \"b\" : [\"a\", \"d\"],\n",
        "                   \"c\" : [\"a\", \"d\"],\n",
        "                   \"d\" : [\"e\"],\n",
        "                   \"e\" : [\"d\"]\n",
        "                 }\n",
        "\n",
        "g = graph(graph_elements)\n",
        "g.AddEdge({'a', 'e'})\n",
        "g.AddEdge({'a', 'c'})\n",
        "print(g.edges())"
      ],
      "execution_count": 33,
      "outputs": [
        {
          "output_type": "stream",
          "name": "stdout",
          "text": [
            "[{'a', 'b'}, {'a', 'c'}, {'d', 'b'}, {'c', 'd'}, {'e', 'd'}, {'e', 'a'}]\n"
          ]
        }
      ]
    }
  ]
}