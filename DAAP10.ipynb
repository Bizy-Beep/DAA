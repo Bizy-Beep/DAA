{
  "nbformat": 4,
  "nbformat_minor": 0,
  "metadata": {
    "colab": {
      "name": "DAAP10",
      "provenance": [],
      "authorship_tag": "ABX9TyMppaUtGO8Vtb9QSqmcuWyq",
      "include_colab_link": true
    },
    "kernelspec": {
      "name": "python3",
      "display_name": "Python 3"
    },
    "language_info": {
      "name": "python"
    }
  },
  "cells": [
    {
      "cell_type": "markdown",
      "metadata": {
        "id": "view-in-github",
        "colab_type": "text"
      },
      "source": [
        "<a href=\"https://colab.research.google.com/github/rzfd/DAA/blob/main/DAAP10.ipynb\" target=\"_parent\"><img src=\"https://colab.research.google.com/assets/colab-badge.svg\" alt=\"Open In Colab\"/></a>"
      ]
    },
    {
      "cell_type": "code",
      "metadata": {
        "colab": {
          "base_uri": "https://localhost:8080/"
        },
        "id": "xtkkg6G948bu",
        "outputId": "65d28d63-6ba1-4bf2-892e-3a41c46f1cfc"
      },
      "source": [
        "pip install pulp==2.5.1"
      ],
      "execution_count": null,
      "outputs": [
        {
          "output_type": "stream",
          "name": "stdout",
          "text": [
            "Collecting pulp==2.5.1\n",
            "  Downloading PuLP-2.5.1-py3-none-any.whl (41.2 MB)\n",
            "\u001b[K     |████████████████████████████████| 41.2 MB 81 kB/s \n",
            "\u001b[?25hInstalling collected packages: pulp\n",
            "  Attempting uninstall: pulp\n",
            "    Found existing installation: PuLP 2.3.1\n",
            "    Uninstalling PuLP-2.3.1:\n",
            "      Successfully uninstalled PuLP-2.3.1\n",
            "Successfully installed pulp-2.5.1\n"
          ]
        }
      ]
    },
    {
      "cell_type": "code",
      "metadata": {
        "id": "798dE-125uZ0"
      },
      "source": [
        "import pulp\n"
      ],
      "execution_count": null,
      "outputs": []
    },
    {
      "cell_type": "code",
      "metadata": {
        "id": "xMkCN6EY74H9"
      },
      "source": [
        "#instantiate our problem class\n",
        "model = pulp.LpProblem(\"ProfitMaximingProblem\", pulp.LpMaximize)\n",
        "\n",
        "A = pulp.LpVariable('A', lowBound=0, cat='Integer')\n",
        "B = pulp.LpVariable('B', lowBound=0, cat='Integer')"
      ],
      "execution_count": null,
      "outputs": []
    },
    {
      "cell_type": "code",
      "metadata": {
        "id": "uCD63CIO8vdc"
      },
      "source": [
        "#Objective function\n",
        "model += 5000 * A + 2500 * B, \"Profit\"\n",
        "\n",
        "#Contraints\n",
        "model += 3 * A + 2 * B <= 20\n",
        "model += 4 * A + 3 * B <= 30\n",
        "model += 4 * A + 3 * B <= 44\n",
        "\n",
        "#solve our problem \n",
        "model.solve()\n",
        "pulp.LpStatus[model.status]"
      ],
      "execution_count": null,
      "outputs": []
    },
    {
      "cell_type": "code",
      "metadata": {
        "colab": {
          "base_uri": "https://localhost:8080/"
        },
        "id": "x9onw2em9gLf",
        "outputId": "95d52978-c06d-42e7-cb66-c543fece22bc"
      },
      "source": [
        "#Print our decision variable values\n",
        "print(A.varValue)\n",
        "print(B.varValue)"
      ],
      "execution_count": null,
      "outputs": [
        {
          "output_type": "stream",
          "name": "stdout",
          "text": [
            "7.0\n",
            "2.0\n"
          ]
        }
      ]
    },
    {
      "cell_type": "code",
      "metadata": {
        "colab": {
          "base_uri": "https://localhost:8080/"
        },
        "id": "gFVUYVzr9sHn",
        "outputId": "c4fbd1b8-bbe8-4135-939c-1584ca4526ea"
      },
      "source": [
        "#print our objectives function value\n",
        "print(pulp.value(model.objective))"
      ],
      "execution_count": null,
      "outputs": [
        {
          "output_type": "stream",
          "name": "stdout",
          "text": [
            "32500.0\n"
          ]
        }
      ]
    },
    {
      "cell_type": "code",
      "metadata": {
        "colab": {
          "base_uri": "https://localhost:8080/",
          "height": 35
        },
        "id": "QXE1-n44_Rdq",
        "outputId": "da0f0be9-ff25-4570-a756-818bd22633b3"
      },
      "source": [
        "#Latihan 1\n",
        "\n",
        "#instantiate our problem class\n",
        "model = pulp.LpProblem(\"ProfitMaximingProblem\", pulp.LpMaximize)\n",
        "\n",
        "A = pulp.LpVariable('A', lowBound=0, cat='Integer')\n",
        "B = pulp.LpVariable('B', lowBound=0, cat='Integer')\n",
        "\n",
        "#Contraints\n",
        "model += 4 * A + 3 * B == 34\n",
        "model += 5 * A + 1 * B == 37\n",
        "\n",
        "#solve our problem \n",
        "model.solve()\n",
        "pulp.LpStatus[model.status]"
      ],
      "execution_count": null,
      "outputs": [
        {
          "output_type": "execute_result",
          "data": {
            "application/vnd.google.colaboratory.intrinsic+json": {
              "type": "string"
            },
            "text/plain": [
              "'Optimal'"
            ]
          },
          "metadata": {},
          "execution_count": 35
        }
      ]
    },
    {
      "cell_type": "code",
      "metadata": {
        "colab": {
          "base_uri": "https://localhost:8080/"
        },
        "id": "sMEywc57_tQH",
        "outputId": "57b93e65-b4ee-46a1-c955-8334b98a9dfd"
      },
      "source": [
        "#Print our decision variable values\n",
        "print(A.varValue)\n",
        "print(B.varValue)"
      ],
      "execution_count": null,
      "outputs": [
        {
          "output_type": "stream",
          "name": "stdout",
          "text": [
            "7.0\n",
            "2.0\n"
          ]
        }
      ]
    },
    {
      "cell_type": "code",
      "metadata": {
        "colab": {
          "base_uri": "https://localhost:8080/",
          "height": 35
        },
        "id": "fujZ3zP5BWFa",
        "outputId": "a28cecf2-01cc-4b08-e17d-c596df2d2152"
      },
      "source": [
        "#Latihan 2\n",
        "\n",
        "#instantiate our problem class\n",
        "model = pulp.LpProblem(\"ProfitMaximingProblem\", pulp.LpMaximize)\n",
        "\n",
        "A = pulp.LpVariable('A', lowBound=0, cat='Integer')\n",
        "B = pulp.LpVariable('B', lowBound=0, cat='Integer')\n",
        "\n",
        "#Objective function\n",
        "model += 2 * A + 6 * B, \"Profit\"\n",
        "\n",
        "#Contraints\n",
        "model += 3 * A + 4 * B == 11000\n",
        "model += 1 * A + 7 * B == 15000\n",
        "\n",
        "#solve our problem \n",
        "model.solve()\n",
        "pulp.LpStatus[model.status]"
      ],
      "execution_count": null,
      "outputs": [
        {
          "output_type": "execute_result",
          "data": {
            "application/vnd.google.colaboratory.intrinsic+json": {
              "type": "string"
            },
            "text/plain": [
              "'Optimal'"
            ]
          },
          "metadata": {},
          "execution_count": 37
        }
      ]
    },
    {
      "cell_type": "code",
      "metadata": {
        "colab": {
          "base_uri": "https://localhost:8080/"
        },
        "id": "gGDN4hC0CBo-",
        "outputId": "83622627-1f63-4882-8820-94fd1cdbb707"
      },
      "source": [
        "#Print our decision variable values\n",
        "print(A.varValue)\n",
        "print(B.varValue)"
      ],
      "execution_count": null,
      "outputs": [
        {
          "output_type": "stream",
          "name": "stdout",
          "text": [
            "1000.0\n",
            "2000.0\n"
          ]
        }
      ]
    },
    {
      "cell_type": "code",
      "metadata": {
        "colab": {
          "base_uri": "https://localhost:8080/"
        },
        "id": "e1lUb9aRCSqc",
        "outputId": "f9f152d0-7c09-48e2-cc39-9db4a98e97c2"
      },
      "source": [
        "#print our objectives function value\n",
        "print(pulp.value(model.objective))"
      ],
      "execution_count": null,
      "outputs": [
        {
          "output_type": "stream",
          "name": "stdout",
          "text": [
            "14000.0\n"
          ]
        }
      ]
    },
    {
      "cell_type": "code",
      "metadata": {
        "colab": {
          "base_uri": "https://localhost:8080/",
          "height": 35
        },
        "id": "3syMfQ6gHEtk",
        "outputId": "a2a1a40b-fb63-4601-db7b-e9a820103e5e"
      },
      "source": [
        "#Latihan 3\n",
        "\n",
        "#instantiate our problem class\n",
        "model = pulp.LpProblem(\"ProfitMaximingProblem\", pulp.LpMaximize)\n",
        "\n",
        "P = pulp.LpVariable('P', lowBound=0, cat='Integer')\n",
        "L = pulp.LpVariable('L', lowBound=0, cat='Integer')\n",
        "\n",
        "#Objective function\n",
        "model += 2 * P + 2 * L, \"Profit\"\n",
        "\n",
        "#Contraints\n",
        "model += 2 * P + 2 * L == 44\n",
        "model += 2 * P + 2 * P - 12 == 44\n",
        "\n",
        "#solve our problem \n",
        "model.solve()\n",
        "pulp.LpStatus[model.status]"
      ],
      "execution_count": null,
      "outputs": [
        {
          "output_type": "execute_result",
          "data": {
            "application/vnd.google.colaboratory.intrinsic+json": {
              "type": "string"
            },
            "text/plain": [
              "'Optimal'"
            ]
          },
          "metadata": {},
          "execution_count": 48
        }
      ]
    },
    {
      "cell_type": "code",
      "metadata": {
        "colab": {
          "base_uri": "https://localhost:8080/"
        },
        "id": "ewXlvuP9H7j3",
        "outputId": "ba737b34-3f27-4f37-f6b0-03f821818782"
      },
      "source": [
        "#Print our decision variable values\n",
        "print(P.varValue)\n",
        "print(L.varValue)"
      ],
      "execution_count": null,
      "outputs": [
        {
          "output_type": "stream",
          "name": "stdout",
          "text": [
            "14.0\n",
            "8.0\n"
          ]
        }
      ]
    },
    {
      "cell_type": "code",
      "metadata": {
        "colab": {
          "base_uri": "https://localhost:8080/"
        },
        "id": "P7aP2_6DIeOX",
        "outputId": "af71c2b4-a81e-47ed-f1d9-0f07fc55d294"
      },
      "source": [
        "#SCIPY\n",
        "\n",
        "#Import Libraries \n",
        "\n",
        "import numpy as np\n",
        "from scipy.optimize import linprog\n",
        "\n",
        "#Set the inequality constraints matrix \n",
        "A = np.array([[1, 0], [2, 3], [1 , 1], [-1, 0], [0, -1]])\n",
        "#Set the inequality contarints vector\n",
        "b = np.array([16, 19, 8, 0 ,0]) \n",
        "#Set the coefficients of the linear objective function vector\n",
        "c = np.array([-5, -7])\n",
        "#Solve Linear Progamming problem\n",
        "res = linprog(c, A_ub=A, b_ub=b)"
      ],
      "execution_count": null,
      "outputs": [
        {
          "output_type": "stream",
          "name": "stderr",
          "text": [
            "/usr/local/lib/python3.7/dist-packages/numpy/core/fromnumeric.py:87: VisibleDeprecationWarning: Creating an ndarray from ragged nested sequences (which is a list-or-tuple of lists-or-tuples-or ndarrays with different lengths or shapes) is deprecated. If you meant to do this, you must specify 'dtype=object' when creating the ndarray\n",
            "  return ufunc.reduce(obj, axis, dtype, out, **passkwargs)\n"
          ]
        }
      ]
    },
    {
      "cell_type": "code",
      "metadata": {
        "colab": {
          "base_uri": "https://localhost:8080/"
        },
        "id": "Y4NEoTPgMJ6_",
        "outputId": "a01967c8-2daf-477e-85ec-cdec228919e8"
      },
      "source": [
        "#Print Result\n",
        "\n",
        "print('Oprimal Value: ', round(res.fun*-1, ndigits=2),\n",
        "      '\\nx values :', res.x,\n",
        "      '\\nNumber of iterations performed:' ,res.nit,\n",
        "      '\\nStatus: ', res.message)\n"
      ],
      "execution_count": null,
      "outputs": [
        {
          "output_type": "stream",
          "name": "stdout",
          "text": [
            "Oprimal Value:  46.0 \n",
            "x values : [5. 3.] \n",
            "Number of iterations performed: 5 \n",
            "Status:  Optimization terminated successfully.\n"
          ]
        }
      ]
    },
    {
      "cell_type": "code",
      "metadata": {
        "colab": {
          "base_uri": "https://localhost:8080/"
        },
        "id": "v0MqI0uGQS_N",
        "outputId": "4a93c806-2dea-4623-9e9a-cfd0a327d08e"
      },
      "source": [
        "#Latihan 1 Scipy\n",
        "\n",
        "#Set the inequality constraints matrix \n",
        "A = np.array([[4, 12], [2, 1], [-1, 0], [0, -1]])\n",
        "#Set the inequality contarints vector\n",
        "b = np.array([28, 21, 0 ,0]) \n",
        "#Set the coefficients of the linear objective function vector\n",
        "c = np.array([-5, -7])\n",
        "#Solve Linear Progamming problem\n",
        "res = linprog(c, A_ub=A, b_ub=b)"
      ],
      "execution_count": 68,
      "outputs": [
        {
          "output_type": "stream",
          "name": "stderr",
          "text": [
            "/usr/local/lib/python3.7/dist-packages/numpy/core/fromnumeric.py:87: VisibleDeprecationWarning: Creating an ndarray from ragged nested sequences (which is a list-or-tuple of lists-or-tuples-or ndarrays with different lengths or shapes) is deprecated. If you meant to do this, you must specify 'dtype=object' when creating the ndarray\n",
            "  return ufunc.reduce(obj, axis, dtype, out, **passkwargs)\n"
          ]
        }
      ]
    },
    {
      "cell_type": "code",
      "metadata": {
        "colab": {
          "base_uri": "https://localhost:8080/"
        },
        "id": "LA_ea79CQrP_",
        "outputId": "d8b2bbd1-8611-4a77-9d94-50e2ee026815"
      },
      "source": [
        "#Print Result\n",
        "\n",
        "print('Oprimal Value: ', round(res.fun*-1, ndigits=2),\n",
        "      '\\nx values :', res.x,\n",
        "      '\\nNumber of iterations performed:' ,res.nit,\n",
        "      '\\nStatus: ', res.message)"
      ],
      "execution_count": 69,
      "outputs": [
        {
          "output_type": "stream",
          "name": "stdout",
          "text": [
            "Oprimal Value:  35.0 \n",
            "x values : [7.00000000e+00 4.27537625e-11] \n",
            "Number of iterations performed: 4 \n",
            "Status:  Optimization terminated successfully.\n"
          ]
        }
      ]
    },
    {
      "cell_type": "code",
      "metadata": {
        "colab": {
          "base_uri": "https://localhost:8080/"
        },
        "id": "bUpTseiHXYTW",
        "outputId": "f863ddc3-d33f-453a-8a1e-e8fabca67852"
      },
      "source": [
        "# Latihan 2\n",
        "\n",
        "#Set the inequality constraints matrix \n",
        "A = np.array([[1, 1], [3, 4], [-1, 0], [0, -1]])\n",
        "#Set the inequality contarints vector\n",
        "b = np.array([16, 55, 0 ,0]) \n",
        "#Set the coefficients of the linear objective function vector\n",
        "c = np.array([-1, -1])\n",
        "#Solve Linear Progamming problem\n",
        "res = linprog(c, A_ub=A, b_ub=b)"
      ],
      "execution_count": 70,
      "outputs": [
        {
          "output_type": "stream",
          "name": "stderr",
          "text": [
            "/usr/local/lib/python3.7/dist-packages/numpy/core/fromnumeric.py:87: VisibleDeprecationWarning: Creating an ndarray from ragged nested sequences (which is a list-or-tuple of lists-or-tuples-or ndarrays with different lengths or shapes) is deprecated. If you meant to do this, you must specify 'dtype=object' when creating the ndarray\n",
            "  return ufunc.reduce(obj, axis, dtype, out, **passkwargs)\n"
          ]
        }
      ]
    },
    {
      "cell_type": "code",
      "metadata": {
        "colab": {
          "base_uri": "https://localhost:8080/"
        },
        "id": "ZnoDl4QXYbAq",
        "outputId": "f42e9803-609b-4591-b348-6df70d7f9057"
      },
      "source": [
        "#Print Result\n",
        "\n",
        "print('Oprimal Value: ', round(res.fun*-1, ndigits=2),\n",
        "      '\\nx values :', res.x,\n",
        "      '\\nNumber of iterations performed:' ,res.nit,\n",
        "      '\\nStatus: ', res.message)"
      ],
      "execution_count": 71,
      "outputs": [
        {
          "output_type": "stream",
          "name": "stdout",
          "text": [
            "Oprimal Value:  16.0 \n",
            "x values : [11.28137674  4.71862326] \n",
            "Number of iterations performed: 5 \n",
            "Status:  Optimization terminated successfully.\n"
          ]
        }
      ]
    }
  ]
}