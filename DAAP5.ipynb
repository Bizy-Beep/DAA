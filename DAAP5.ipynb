{
  "nbformat": 4,
  "nbformat_minor": 0,
  "metadata": {
    "colab": {
      "name": "DAAP5",
      "provenance": [],
      "authorship_tag": "ABX9TyMgCN46iz9o0yTM9SRhJhWq",
      "include_colab_link": true
    },
    "kernelspec": {
      "name": "python3",
      "display_name": "Python 3"
    },
    "language_info": {
      "name": "python"
    }
  },
  "cells": [
    {
      "cell_type": "markdown",
      "metadata": {
        "id": "view-in-github",
        "colab_type": "text"
      },
      "source": [
        "<a href=\"https://colab.research.google.com/github/rzfd/DAA/blob/main/DAAP5.ipynb\" target=\"_parent\"><img src=\"https://colab.research.google.com/assets/colab-badge.svg\" alt=\"Open In Colab\"/></a>"
      ]
    },
    {
      "cell_type": "code",
      "metadata": {
        "id": "b8YbXzAukXDA"
      },
      "source": [
        "#hitung inversi\n",
        "\n",
        "def countInversion(arr):\n",
        "  result=0\n",
        "  for i in range(len(arr)):\n",
        "    for j in range(i+1,len(arr)):\n",
        "      if arr[i]>arr[j]:\n",
        "        result+=1\n",
        "  return result"
      ],
      "execution_count": 1,
      "outputs": []
    },
    {
      "cell_type": "code",
      "metadata": {
        "colab": {
          "base_uri": "https://localhost:8080/"
        },
        "id": "wOsOVvg6k5Ss",
        "outputId": "3d2834a4-c660-4d94-8b1f-97c093513bbb"
      },
      "source": [
        "arr=[21, 70, 36, 14, 25]\n",
        "result=countInversion(arr)\n",
        "print(result)"
      ],
      "execution_count": 43,
      "outputs": [
        {
          "output_type": "stream",
          "name": "stdout",
          "text": [
            "6\n"
          ]
        }
      ]
    },
    {
      "cell_type": "code",
      "metadata": {
        "id": "MPiimv0hoHe_"
      },
      "source": [
        "def countInversion(arr):\n",
        "    icount=0\n",
        "    if len(arr)<=1:\n",
        "        return icount\n",
        "\n",
        "    mid=len(arr)//2\n",
        "    left=arr[:mid]\n",
        "    right=arr[mid:]\n",
        "    icount+=countInversion(left)\n",
        "    icount+=countInversion(right)\n",
        "    i=j=k=0\n",
        "\n",
        "    #print(left)\n",
        "    #print(Right)\n",
        "    while i<len(left) and j<len(right):\n",
        "        if left[i]<right[j]:\n",
        "            arr[k]=left[i]\n",
        "            i+=1\n",
        "        else:\n",
        "            #print(left[i],right[j])\n",
        "            arr[k]=right[j]\n",
        "            j+=1\n",
        "            icount+=(mid-i)\n",
        "        k+=1\n",
        "    while i<len(left):\n",
        "        arr[k]=left[i]\n",
        "        i+=1\n",
        "        k+=1\n",
        "    while j<len(right):\n",
        "        arr[k]=right[j]\n",
        "        j+=1\n",
        "        k+=1\n",
        "\n",
        "    return icount"
      ],
      "execution_count": 13,
      "outputs": []
    },
    {
      "cell_type": "code",
      "metadata": {
        "colab": {
          "base_uri": "https://localhost:8080/"
        },
        "id": "W1aPMCizp3mu",
        "outputId": "bab3a226-310f-449d-971a-9faa14f630c4"
      },
      "source": [
        "arr = [1, 20, 6, 4, 5]\n",
        "result=countInversion(arr)\n",
        "print(result)"
      ],
      "execution_count": 44,
      "outputs": [
        {
          "output_type": "stream",
          "name": "stdout",
          "text": [
            "5\n"
          ]
        }
      ]
    },
    {
      "cell_type": "code",
      "metadata": {
        "id": "M85y3bIiuvFO"
      },
      "source": [
        "# tanpa divide dan conquer\n",
        "\n",
        "def maxSubSum(arr):\n",
        "  max_so_far=0\n",
        "  max_ending_here=0\n",
        "  for i in range(len(arr)):\n",
        "    max_ending_here+=arr[i]\n",
        "    if max_ending_here>max_so_far:\n",
        "      max_so_far=max_ending_here\n",
        "    if max_ending_here<0:\n",
        "      max_ending_here=0\n",
        "  return max_so_far"
      ],
      "execution_count": 17,
      "outputs": []
    },
    {
      "cell_type": "code",
      "metadata": {
        "colab": {
          "base_uri": "https://localhost:8080/"
        },
        "id": "kMRVxIk1vjYH",
        "outputId": "e156137a-c277-4871-c937-78a82cd7475d"
      },
      "source": [
        "arr=[-2, -5, 6, -2, -3, 1, 5, -6]\n",
        "result=maxSubSum(arr)\n",
        "print(result)"
      ],
      "execution_count": 18,
      "outputs": [
        {
          "output_type": "stream",
          "name": "stdout",
          "text": [
            "7\n"
          ]
        }
      ]
    },
    {
      "cell_type": "code",
      "metadata": {
        "id": "OjONbl9KzhEL"
      },
      "source": [
        "#Menggunankan Divide dan conquer\n",
        "\n",
        "def maxCrossingSum(arr,low,mid,high):\n",
        "  result=0; leftSum=float('-infinity')\n",
        "  for i in range(mid,low-1,-1):\n",
        "    result+=arr[i]\n",
        "    if result>leftSum:\n",
        "      leftSum=result\n",
        "  result=0; rightSum=float('-infinity')\n",
        "  for i in range(mid+1,high+1):\n",
        "    result+=arr[i]\n",
        "    if result > rightSum:\n",
        "      rightSum=result\n",
        "  return leftSum + rightSum\n",
        "\n",
        "def maxSum(arr, low, high):\n",
        "  if low == high:\n",
        "    return arr[low]\n",
        "  mid=(low + high)//2\n",
        "  return max(maxSum(arr, low, mid), maxSum(arr, mid+1, high), maxCrossingSum(arr, low, mid, high))"
      ],
      "execution_count": 19,
      "outputs": []
    },
    {
      "cell_type": "code",
      "metadata": {
        "colab": {
          "base_uri": "https://localhost:8080/"
        },
        "id": "B4GIqz981aRZ",
        "outputId": "0f50ab58-5e0e-4539-b033-5d77dd0383a0"
      },
      "source": [
        "arr=[-2, -5, 6, -2, -3, 1, 5, -6] \n",
        "result = maxSum(arr, 0, len(arr)-1)\n",
        "print(result)"
      ],
      "execution_count": 20,
      "outputs": [
        {
          "output_type": "stream",
          "name": "stdout",
          "text": [
            "7\n"
          ]
        }
      ]
    },
    {
      "cell_type": "code",
      "metadata": {
        "id": "IAGLZIly1vNY"
      },
      "source": [
        "#Longest Common Prefix\n",
        "#Dengan Divide dan Conquer\n",
        "\n",
        "def commonPrefix(str1, str2):\n",
        "  n1=len(str1);n2=len(str2)\n",
        "  i, j = 0,0\n",
        "  s=\"\"\n",
        "  while i<n1 and j<n2:\n",
        "    if str1[i]==str2[j]:\n",
        "      s+=str1[i]\n",
        "      i+=1\n",
        "      j+=1\n",
        "    else :\n",
        "      break\n",
        "  return s\n",
        "\n",
        "def longestCommonPrefix(arr,low,high):\n",
        "  if low==high:\n",
        "    return arr[low]\n",
        "  mid=(low+high)//2\n",
        "  result1=longestCommonPrefix(arr,low,mid)\n",
        "  result2=longestCommonPrefix(arr,mid+1,high)\n",
        "  result=commonPrefix(result1,result2)\n",
        "  return result"
      ],
      "execution_count": 45,
      "outputs": []
    },
    {
      "cell_type": "code",
      "metadata": {
        "colab": {
          "base_uri": "https://localhost:8080/"
        },
        "id": "G5KvHBvj8leC",
        "outputId": "0925c51f-4c1a-41d7-9596-970fe4d9c7cf"
      },
      "source": [
        "arr=['geeksforgeeks', 'geeks', 'geek', 'geezer']\n",
        "result=longestCommonPrefix(arr,0,len(arr)-1)\n",
        "print(result)"
      ],
      "execution_count": 46,
      "outputs": [
        {
          "output_type": "stream",
          "name": "stdout",
          "text": [
            "gee\n"
          ]
        }
      ]
    },
    {
      "cell_type": "code",
      "metadata": {
        "colab": {
          "base_uri": "https://localhost:8080/"
        },
        "id": "lwrWymLa9hf7",
        "outputId": "f97d2cef-36ae-4a81-ec9e-91ac5c807342"
      },
      "source": [
        "arr=[\"apple\", \"ape\", \"april\"]\n",
        "result=longestCommonPrefix(arr,0,len(arr)-1)\n",
        "print(result)"
      ],
      "execution_count": 47,
      "outputs": [
        {
          "output_type": "stream",
          "name": "stdout",
          "text": [
            "ap\n"
          ]
        }
      ]
    },
    {
      "cell_type": "code",
      "metadata": {
        "id": "nMsbYM6MG3AZ"
      },
      "source": [
        "#Median dari 2 array dengan divide dan conquer\n",
        "\n",
        "def medianOfArray(arr1, arr2, n):\n",
        "  m1=-1 #firstNumber\n",
        "  m2=-1 #secondNumber\n",
        "  count=0\n",
        "  i=j=0\n",
        "  while count<n+1:\n",
        "    count+=1\n",
        "    if i==n: #index error if arr[i]<arr[2] is checked\n",
        "      m1=m2\n",
        "      m2=arr2[0]\n",
        "      break\n",
        "    if j==n:\n",
        "      m1=m2\n",
        "      m2=arr1[0]\n",
        "      break\n",
        "    if arr1[i]<arr2[j]:\n",
        "      m1=m2\n",
        "      m2=arr1[i]\n",
        "      i+=1\n",
        "    else:\n",
        "      m1=m2\n",
        "      m2=arr2[j]\n",
        "      j+=1\n",
        "  return (m1+m2)//2"
      ],
      "execution_count": 48,
      "outputs": []
    },
    {
      "cell_type": "code",
      "metadata": {
        "colab": {
          "base_uri": "https://localhost:8080/"
        },
        "id": "UTB-Gri0MEZp",
        "outputId": "9872867e-59dd-4b84-b5f2-5493e9c8d318"
      },
      "source": [
        "arr1=[1, 12, 15, 26, 38]\n",
        "arr2=[2, 13, 17, 30, 45]\n",
        "print (medianOfArray(arr1,arr2,len(arr1)))"
      ],
      "execution_count": 49,
      "outputs": [
        {
          "output_type": "stream",
          "name": "stdout",
          "text": [
            "16\n"
          ]
        }
      ]
    },
    {
      "cell_type": "code",
      "metadata": {
        "id": "uvGSAdehNLES"
      },
      "source": [
        "#floor in sorted array\n",
        "\n",
        "def floorSorted(arr, low, high, x):\n",
        "  #print(low,high)\n",
        "  if low>high:\n",
        "    return-1\n",
        "\n",
        "  if arr[low]>x:\n",
        "    #print inside\n",
        "    return-1\n",
        "\n",
        "  if arr[high]<=x:\n",
        "    return arr[high]\n",
        "\n",
        "  mid=(low+high)//2\n",
        "\n",
        "  if arr[mid]==x:\n",
        "    return arr[mid]\n",
        "\n",
        "  if mid>0 and x>=arr[mid-1] and arr[mid]>x:\n",
        "    return arr[mid-1]\n",
        "  \n",
        "  if mid<high and x<arr[mid+1] and x>=arr[mid]:\n",
        "    return arr[mid]\n",
        "\n",
        "  if x>arr[mid]:\n",
        "    return floorSorted(arr, mid+1, high,x)\n",
        "  else:\n",
        "    return floorSorted(arr,low,mid-1,x)\n"
      ],
      "execution_count": 50,
      "outputs": []
    },
    {
      "cell_type": "code",
      "metadata": {
        "colab": {
          "base_uri": "https://localhost:8080/"
        },
        "id": "KyE9hg3SQmdh",
        "outputId": "6402354e-cbd4-45f8-e56a-f0056f462d97"
      },
      "source": [
        "arr=[1, 2, 8, 10, 12, 14, 19]\n",
        "x=5\n",
        "print (floorSorted(arr,0,len(arr)-1,x))"
      ],
      "execution_count": 67,
      "outputs": [
        {
          "output_type": "stream",
          "name": "stdout",
          "text": [
            "2\n"
          ]
        }
      ]
    },
    {
      "cell_type": "code",
      "metadata": {
        "id": "rDR6fGizQ24j"
      },
      "source": [
        "#mencari nilai terdekat dengan divide dan conquer\n",
        "\n",
        "def closestNumber(arr,low,high,x):\n",
        "  if low>high:\n",
        "    return-1\n",
        "  if arr[high]<=x:\n",
        "    return arr[high]\n",
        "  if arr[low]>=x:\n",
        "    return arr[low]\n",
        "  mid=(low+high)//2\n",
        "  if arr[mid]==x:\n",
        "    return arr[mid]\n",
        "  abs_mid=abs(arr[mid-1]-x)\n",
        "  if abs_left<abs_mid:\n",
        "    return closestNumber(arr, low, mid-1, x)\n",
        "  if mid<high:\n",
        "    abs_right=abs(arr[mid+1]-x)\n",
        "    if abs_right<abs_mid:\n",
        "      return closestNumber(arr, mid+1, high, x)\n",
        "  #print('after)\n",
        "  return arr[mid]"
      ],
      "execution_count": 64,
      "outputs": []
    },
    {
      "cell_type": "code",
      "metadata": {
        "colab": {
          "base_uri": "https://localhost:8080/"
        },
        "id": "kcwMJmHdUAga",
        "outputId": "cdb992cf-5ca1-40f9-d612-7fd48d928943"
      },
      "source": [
        "arr=[2, 5, 6, 7, 8, 8, 9]\n",
        "x= 9\n",
        "print(closestNumber(arr,0,len(arr)-1,x))"
      ],
      "execution_count": 70,
      "outputs": [
        {
          "output_type": "stream",
          "name": "stdout",
          "text": [
            "9\n"
          ]
        }
      ]
    },
    {
      "cell_type": "code",
      "metadata": {
        "id": "gMAZcTIfUSJc"
      },
      "source": [
        "#mencari fixed point dengan metode divide dan conquer\n",
        "\n",
        "def fixedPoint(arr, low, high):\n",
        "  if low>high:\n",
        "    return-1\n",
        "  if arr[high]==high:\n",
        "    return arr[high]\n",
        "  if arr[low]==low:\n",
        "    return arr[low]\n",
        "  mid=(low+high)//2\n",
        "  if arr[mid]==mid:\n",
        "    return arr[mid]\n",
        "  if mid>arr[mid]:\n",
        "    return fixedPoint(arr,mid+1,high)\n",
        "  else:\n",
        "    return fixedPoint(arr,low,mid-1)\n"
      ],
      "execution_count": 55,
      "outputs": []
    },
    {
      "cell_type": "code",
      "metadata": {
        "colab": {
          "base_uri": "https://localhost:8080/"
        },
        "id": "5A2rBNsCVZ_Z",
        "outputId": "cbee108c-4cb5-4acf-c211-0d3340d033b0"
      },
      "source": [
        "arr=[9, 1, 4, 5, 2]\n",
        "print(fixedPoint(arr,0,len(arr)-1))"
      ],
      "execution_count": 72,
      "outputs": [
        {
          "output_type": "stream",
          "name": "stdout",
          "text": [
            "1\n"
          ]
        }
      ]
    }
  ]
}